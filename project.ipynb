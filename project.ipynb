{
 "cells": [
  {
   "cell_type": "code",
   "execution_count": 19,
   "metadata": {},
   "outputs": [
    {
     "data": {
      "text/html": [
       "<div>\n",
       "<style scoped>\n",
       "    .dataframe tbody tr th:only-of-type {\n",
       "        vertical-align: middle;\n",
       "    }\n",
       "\n",
       "    .dataframe tbody tr th {\n",
       "        vertical-align: top;\n",
       "    }\n",
       "\n",
       "    .dataframe thead th {\n",
       "        text-align: right;\n",
       "    }\n",
       "</style>\n",
       "<table border=\"1\" class=\"dataframe\">\n",
       "  <thead>\n",
       "    <tr style=\"text-align: right;\">\n",
       "      <th></th>\n",
       "      <th>Customer_ID</th>\n",
       "      <th>Age</th>\n",
       "      <th>Gender</th>\n",
       "      <th>City</th>\n",
       "      <th>Income_Level</th>\n",
       "      <th>Purchase_Mode</th>\n",
       "      <th>Brand_Purchased</th>\n",
       "      <th>Price_Range</th>\n",
       "      <th>Payment_Mode</th>\n",
       "      <th>Purchase_Frequency</th>\n",
       "      <th>Satisfaction_Rating</th>\n",
       "    </tr>\n",
       "  </thead>\n",
       "  <tbody>\n",
       "    <tr>\n",
       "      <th>0</th>\n",
       "      <td>CUST00001</td>\n",
       "      <td>56</td>\n",
       "      <td>Male</td>\n",
       "      <td>Pune</td>\n",
       "      <td>Low</td>\n",
       "      <td>Online</td>\n",
       "      <td>Dell</td>\n",
       "      <td>30K-50K</td>\n",
       "      <td>UPI</td>\n",
       "      <td>Rare</td>\n",
       "      <td>4</td>\n",
       "    </tr>\n",
       "    <tr>\n",
       "      <th>1</th>\n",
       "      <td>CUST00002</td>\n",
       "      <td>46</td>\n",
       "      <td>Female</td>\n",
       "      <td>Kolkata</td>\n",
       "      <td>Medium</td>\n",
       "      <td>Online</td>\n",
       "      <td>MSI</td>\n",
       "      <td>Below 30K</td>\n",
       "      <td>Cash</td>\n",
       "      <td>Occasional</td>\n",
       "      <td>2</td>\n",
       "    </tr>\n",
       "    <tr>\n",
       "      <th>2</th>\n",
       "      <td>CUST00003</td>\n",
       "      <td>32</td>\n",
       "      <td>Male</td>\n",
       "      <td>Bangalore</td>\n",
       "      <td>Low</td>\n",
       "      <td>Online</td>\n",
       "      <td>Samsung</td>\n",
       "      <td>80K-1.2L</td>\n",
       "      <td>UPI</td>\n",
       "      <td>Occasional</td>\n",
       "      <td>3</td>\n",
       "    </tr>\n",
       "    <tr>\n",
       "      <th>3</th>\n",
       "      <td>CUST00004</td>\n",
       "      <td>25</td>\n",
       "      <td>Female</td>\n",
       "      <td>Jaipur</td>\n",
       "      <td>Medium</td>\n",
       "      <td>Offline</td>\n",
       "      <td>Samsung</td>\n",
       "      <td>Below 30K</td>\n",
       "      <td>Credit Card</td>\n",
       "      <td>Rare</td>\n",
       "      <td>4</td>\n",
       "    </tr>\n",
       "    <tr>\n",
       "      <th>4</th>\n",
       "      <td>CUST00005</td>\n",
       "      <td>38</td>\n",
       "      <td>Female</td>\n",
       "      <td>Pune</td>\n",
       "      <td>High</td>\n",
       "      <td>Online</td>\n",
       "      <td>MSI</td>\n",
       "      <td>80K-1.2L</td>\n",
       "      <td>Cash</td>\n",
       "      <td>Rare</td>\n",
       "      <td>3</td>\n",
       "    </tr>\n",
       "    <tr>\n",
       "      <th>...</th>\n",
       "      <td>...</td>\n",
       "      <td>...</td>\n",
       "      <td>...</td>\n",
       "      <td>...</td>\n",
       "      <td>...</td>\n",
       "      <td>...</td>\n",
       "      <td>...</td>\n",
       "      <td>...</td>\n",
       "      <td>...</td>\n",
       "      <td>...</td>\n",
       "      <td>...</td>\n",
       "    </tr>\n",
       "    <tr>\n",
       "      <th>4995</th>\n",
       "      <td>CUST04996</td>\n",
       "      <td>32</td>\n",
       "      <td>Male</td>\n",
       "      <td>Pune</td>\n",
       "      <td>Low</td>\n",
       "      <td>Online</td>\n",
       "      <td>Apple</td>\n",
       "      <td>Below 30K</td>\n",
       "      <td>Credit Card</td>\n",
       "      <td>Rare</td>\n",
       "      <td>4</td>\n",
       "    </tr>\n",
       "    <tr>\n",
       "      <th>4996</th>\n",
       "      <td>CUST04997</td>\n",
       "      <td>36</td>\n",
       "      <td>Male</td>\n",
       "      <td>Delhi</td>\n",
       "      <td>Medium</td>\n",
       "      <td>Offline</td>\n",
       "      <td>Dell</td>\n",
       "      <td>50K-80K</td>\n",
       "      <td>Cash</td>\n",
       "      <td>Occasional</td>\n",
       "      <td>3</td>\n",
       "    </tr>\n",
       "    <tr>\n",
       "      <th>4997</th>\n",
       "      <td>CUST04998</td>\n",
       "      <td>52</td>\n",
       "      <td>Female</td>\n",
       "      <td>Chennai</td>\n",
       "      <td>Low</td>\n",
       "      <td>Online</td>\n",
       "      <td>Lenovo</td>\n",
       "      <td>80K-1.2L</td>\n",
       "      <td>Cash</td>\n",
       "      <td>Rare</td>\n",
       "      <td>2</td>\n",
       "    </tr>\n",
       "    <tr>\n",
       "      <th>4998</th>\n",
       "      <td>CUST04999</td>\n",
       "      <td>34</td>\n",
       "      <td>Male</td>\n",
       "      <td>Hyderabad</td>\n",
       "      <td>Medium</td>\n",
       "      <td>Online</td>\n",
       "      <td>Apple</td>\n",
       "      <td>30K-50K</td>\n",
       "      <td>UPI</td>\n",
       "      <td>Occasional</td>\n",
       "      <td>5</td>\n",
       "    </tr>\n",
       "    <tr>\n",
       "      <th>4999</th>\n",
       "      <td>CUST05000</td>\n",
       "      <td>52</td>\n",
       "      <td>Male</td>\n",
       "      <td>Kolkata</td>\n",
       "      <td>High</td>\n",
       "      <td>Online</td>\n",
       "      <td>Acer</td>\n",
       "      <td>30K-50K</td>\n",
       "      <td>Credit Card</td>\n",
       "      <td>Rare</td>\n",
       "      <td>3</td>\n",
       "    </tr>\n",
       "  </tbody>\n",
       "</table>\n",
       "<p>5000 rows × 11 columns</p>\n",
       "</div>"
      ],
      "text/plain": [
       "     Customer_ID  Age  Gender       City Income_Level Purchase_Mode  \\\n",
       "0      CUST00001   56    Male       Pune          Low        Online   \n",
       "1      CUST00002   46  Female    Kolkata       Medium        Online   \n",
       "2      CUST00003   32    Male  Bangalore          Low        Online   \n",
       "3      CUST00004   25  Female     Jaipur       Medium       Offline   \n",
       "4      CUST00005   38  Female       Pune         High        Online   \n",
       "...          ...  ...     ...        ...          ...           ...   \n",
       "4995   CUST04996   32    Male       Pune          Low        Online   \n",
       "4996   CUST04997   36    Male      Delhi       Medium       Offline   \n",
       "4997   CUST04998   52  Female    Chennai          Low        Online   \n",
       "4998   CUST04999   34    Male  Hyderabad       Medium        Online   \n",
       "4999   CUST05000   52    Male    Kolkata         High        Online   \n",
       "\n",
       "     Brand_Purchased Price_Range Payment_Mode Purchase_Frequency  \\\n",
       "0               Dell     30K-50K          UPI               Rare   \n",
       "1                MSI   Below 30K         Cash         Occasional   \n",
       "2            Samsung    80K-1.2L          UPI         Occasional   \n",
       "3            Samsung   Below 30K  Credit Card               Rare   \n",
       "4                MSI    80K-1.2L         Cash               Rare   \n",
       "...              ...         ...          ...                ...   \n",
       "4995           Apple   Below 30K  Credit Card               Rare   \n",
       "4996            Dell     50K-80K         Cash         Occasional   \n",
       "4997          Lenovo    80K-1.2L         Cash               Rare   \n",
       "4998           Apple     30K-50K          UPI         Occasional   \n",
       "4999            Acer     30K-50K  Credit Card               Rare   \n",
       "\n",
       "      Satisfaction_Rating  \n",
       "0                       4  \n",
       "1                       2  \n",
       "2                       3  \n",
       "3                       4  \n",
       "4                       3  \n",
       "...                   ...  \n",
       "4995                    4  \n",
       "4996                    3  \n",
       "4997                    2  \n",
       "4998                    5  \n",
       "4999                    3  \n",
       "\n",
       "[5000 rows x 11 columns]"
      ]
     },
     "execution_count": 19,
     "metadata": {},
     "output_type": "execute_result"
    }
   ],
   "source": [
    "import pandas as pd\n",
    "df = pd.read_csv(\"data.csv\")  # read the data from the file\n",
    "df"
   ]
  },
  {
   "cell_type": "markdown",
   "metadata": {},
   "source": [
    "# Data analysis"
   ]
  },
  {
   "cell_type": "code",
   "execution_count": 20,
   "metadata": {},
   "outputs": [
    {
     "data": {
      "text/html": [
       "<div>\n",
       "<style scoped>\n",
       "    .dataframe tbody tr th:only-of-type {\n",
       "        vertical-align: middle;\n",
       "    }\n",
       "\n",
       "    .dataframe tbody tr th {\n",
       "        vertical-align: top;\n",
       "    }\n",
       "\n",
       "    .dataframe thead th {\n",
       "        text-align: right;\n",
       "    }\n",
       "</style>\n",
       "<table border=\"1\" class=\"dataframe\">\n",
       "  <thead>\n",
       "    <tr style=\"text-align: right;\">\n",
       "      <th></th>\n",
       "      <th>Customer_ID</th>\n",
       "      <th>Age</th>\n",
       "      <th>Gender</th>\n",
       "      <th>City</th>\n",
       "      <th>Income_Level</th>\n",
       "      <th>Purchase_Mode</th>\n",
       "      <th>Brand_Purchased</th>\n",
       "      <th>Price_Range</th>\n",
       "      <th>Payment_Mode</th>\n",
       "      <th>Purchase_Frequency</th>\n",
       "      <th>Satisfaction_Rating</th>\n",
       "    </tr>\n",
       "  </thead>\n",
       "  <tbody>\n",
       "    <tr>\n",
       "      <th>0</th>\n",
       "      <td>CUST00001</td>\n",
       "      <td>56</td>\n",
       "      <td>Male</td>\n",
       "      <td>Pune</td>\n",
       "      <td>Low</td>\n",
       "      <td>Online</td>\n",
       "      <td>Dell</td>\n",
       "      <td>30K-50K</td>\n",
       "      <td>UPI</td>\n",
       "      <td>Rare</td>\n",
       "      <td>4</td>\n",
       "    </tr>\n",
       "    <tr>\n",
       "      <th>1</th>\n",
       "      <td>CUST00002</td>\n",
       "      <td>46</td>\n",
       "      <td>Female</td>\n",
       "      <td>Kolkata</td>\n",
       "      <td>Medium</td>\n",
       "      <td>Online</td>\n",
       "      <td>MSI</td>\n",
       "      <td>Below 30K</td>\n",
       "      <td>Cash</td>\n",
       "      <td>Occasional</td>\n",
       "      <td>2</td>\n",
       "    </tr>\n",
       "    <tr>\n",
       "      <th>2</th>\n",
       "      <td>CUST00003</td>\n",
       "      <td>32</td>\n",
       "      <td>Male</td>\n",
       "      <td>Bangalore</td>\n",
       "      <td>Low</td>\n",
       "      <td>Online</td>\n",
       "      <td>Samsung</td>\n",
       "      <td>80K-1.2L</td>\n",
       "      <td>UPI</td>\n",
       "      <td>Occasional</td>\n",
       "      <td>3</td>\n",
       "    </tr>\n",
       "    <tr>\n",
       "      <th>3</th>\n",
       "      <td>CUST00004</td>\n",
       "      <td>25</td>\n",
       "      <td>Female</td>\n",
       "      <td>Jaipur</td>\n",
       "      <td>Medium</td>\n",
       "      <td>Offline</td>\n",
       "      <td>Samsung</td>\n",
       "      <td>Below 30K</td>\n",
       "      <td>Credit Card</td>\n",
       "      <td>Rare</td>\n",
       "      <td>4</td>\n",
       "    </tr>\n",
       "    <tr>\n",
       "      <th>4</th>\n",
       "      <td>CUST00005</td>\n",
       "      <td>38</td>\n",
       "      <td>Female</td>\n",
       "      <td>Pune</td>\n",
       "      <td>High</td>\n",
       "      <td>Online</td>\n",
       "      <td>MSI</td>\n",
       "      <td>80K-1.2L</td>\n",
       "      <td>Cash</td>\n",
       "      <td>Rare</td>\n",
       "      <td>3</td>\n",
       "    </tr>\n",
       "  </tbody>\n",
       "</table>\n",
       "</div>"
      ],
      "text/plain": [
       "  Customer_ID  Age  Gender       City Income_Level Purchase_Mode  \\\n",
       "0   CUST00001   56    Male       Pune          Low        Online   \n",
       "1   CUST00002   46  Female    Kolkata       Medium        Online   \n",
       "2   CUST00003   32    Male  Bangalore          Low        Online   \n",
       "3   CUST00004   25  Female     Jaipur       Medium       Offline   \n",
       "4   CUST00005   38  Female       Pune         High        Online   \n",
       "\n",
       "  Brand_Purchased Price_Range Payment_Mode Purchase_Frequency  \\\n",
       "0            Dell     30K-50K          UPI               Rare   \n",
       "1             MSI   Below 30K         Cash         Occasional   \n",
       "2         Samsung    80K-1.2L          UPI         Occasional   \n",
       "3         Samsung   Below 30K  Credit Card               Rare   \n",
       "4             MSI    80K-1.2L         Cash               Rare   \n",
       "\n",
       "   Satisfaction_Rating  \n",
       "0                    4  \n",
       "1                    2  \n",
       "2                    3  \n",
       "3                    4  \n",
       "4                    3  "
      ]
     },
     "execution_count": 20,
     "metadata": {},
     "output_type": "execute_result"
    }
   ],
   "source": [
    "df.head()"
   ]
  },
  {
   "cell_type": "code",
   "execution_count": 21,
   "metadata": {},
   "outputs": [
    {
     "data": {
      "text/html": [
       "<div>\n",
       "<style scoped>\n",
       "    .dataframe tbody tr th:only-of-type {\n",
       "        vertical-align: middle;\n",
       "    }\n",
       "\n",
       "    .dataframe tbody tr th {\n",
       "        vertical-align: top;\n",
       "    }\n",
       "\n",
       "    .dataframe thead th {\n",
       "        text-align: right;\n",
       "    }\n",
       "</style>\n",
       "<table border=\"1\" class=\"dataframe\">\n",
       "  <thead>\n",
       "    <tr style=\"text-align: right;\">\n",
       "      <th></th>\n",
       "      <th>Customer_ID</th>\n",
       "      <th>Age</th>\n",
       "      <th>Gender</th>\n",
       "      <th>City</th>\n",
       "      <th>Income_Level</th>\n",
       "      <th>Purchase_Mode</th>\n",
       "      <th>Brand_Purchased</th>\n",
       "      <th>Price_Range</th>\n",
       "      <th>Payment_Mode</th>\n",
       "      <th>Purchase_Frequency</th>\n",
       "      <th>Satisfaction_Rating</th>\n",
       "    </tr>\n",
       "  </thead>\n",
       "  <tbody>\n",
       "    <tr>\n",
       "      <th>4995</th>\n",
       "      <td>CUST04996</td>\n",
       "      <td>32</td>\n",
       "      <td>Male</td>\n",
       "      <td>Pune</td>\n",
       "      <td>Low</td>\n",
       "      <td>Online</td>\n",
       "      <td>Apple</td>\n",
       "      <td>Below 30K</td>\n",
       "      <td>Credit Card</td>\n",
       "      <td>Rare</td>\n",
       "      <td>4</td>\n",
       "    </tr>\n",
       "    <tr>\n",
       "      <th>4996</th>\n",
       "      <td>CUST04997</td>\n",
       "      <td>36</td>\n",
       "      <td>Male</td>\n",
       "      <td>Delhi</td>\n",
       "      <td>Medium</td>\n",
       "      <td>Offline</td>\n",
       "      <td>Dell</td>\n",
       "      <td>50K-80K</td>\n",
       "      <td>Cash</td>\n",
       "      <td>Occasional</td>\n",
       "      <td>3</td>\n",
       "    </tr>\n",
       "    <tr>\n",
       "      <th>4997</th>\n",
       "      <td>CUST04998</td>\n",
       "      <td>52</td>\n",
       "      <td>Female</td>\n",
       "      <td>Chennai</td>\n",
       "      <td>Low</td>\n",
       "      <td>Online</td>\n",
       "      <td>Lenovo</td>\n",
       "      <td>80K-1.2L</td>\n",
       "      <td>Cash</td>\n",
       "      <td>Rare</td>\n",
       "      <td>2</td>\n",
       "    </tr>\n",
       "    <tr>\n",
       "      <th>4998</th>\n",
       "      <td>CUST04999</td>\n",
       "      <td>34</td>\n",
       "      <td>Male</td>\n",
       "      <td>Hyderabad</td>\n",
       "      <td>Medium</td>\n",
       "      <td>Online</td>\n",
       "      <td>Apple</td>\n",
       "      <td>30K-50K</td>\n",
       "      <td>UPI</td>\n",
       "      <td>Occasional</td>\n",
       "      <td>5</td>\n",
       "    </tr>\n",
       "    <tr>\n",
       "      <th>4999</th>\n",
       "      <td>CUST05000</td>\n",
       "      <td>52</td>\n",
       "      <td>Male</td>\n",
       "      <td>Kolkata</td>\n",
       "      <td>High</td>\n",
       "      <td>Online</td>\n",
       "      <td>Acer</td>\n",
       "      <td>30K-50K</td>\n",
       "      <td>Credit Card</td>\n",
       "      <td>Rare</td>\n",
       "      <td>3</td>\n",
       "    </tr>\n",
       "  </tbody>\n",
       "</table>\n",
       "</div>"
      ],
      "text/plain": [
       "     Customer_ID  Age  Gender       City Income_Level Purchase_Mode  \\\n",
       "4995   CUST04996   32    Male       Pune          Low        Online   \n",
       "4996   CUST04997   36    Male      Delhi       Medium       Offline   \n",
       "4997   CUST04998   52  Female    Chennai          Low        Online   \n",
       "4998   CUST04999   34    Male  Hyderabad       Medium        Online   \n",
       "4999   CUST05000   52    Male    Kolkata         High        Online   \n",
       "\n",
       "     Brand_Purchased Price_Range Payment_Mode Purchase_Frequency  \\\n",
       "4995           Apple   Below 30K  Credit Card               Rare   \n",
       "4996            Dell     50K-80K         Cash         Occasional   \n",
       "4997          Lenovo    80K-1.2L         Cash               Rare   \n",
       "4998           Apple     30K-50K          UPI         Occasional   \n",
       "4999            Acer     30K-50K  Credit Card               Rare   \n",
       "\n",
       "      Satisfaction_Rating  \n",
       "4995                    4  \n",
       "4996                    3  \n",
       "4997                    2  \n",
       "4998                    5  \n",
       "4999                    3  "
      ]
     },
     "execution_count": 21,
     "metadata": {},
     "output_type": "execute_result"
    }
   ],
   "source": [
    "df.tail()"
   ]
  },
  {
   "cell_type": "code",
   "execution_count": 22,
   "metadata": {},
   "outputs": [
    {
     "data": {
      "text/html": [
       "<div>\n",
       "<style scoped>\n",
       "    .dataframe tbody tr th:only-of-type {\n",
       "        vertical-align: middle;\n",
       "    }\n",
       "\n",
       "    .dataframe tbody tr th {\n",
       "        vertical-align: top;\n",
       "    }\n",
       "\n",
       "    .dataframe thead th {\n",
       "        text-align: right;\n",
       "    }\n",
       "</style>\n",
       "<table border=\"1\" class=\"dataframe\">\n",
       "  <thead>\n",
       "    <tr style=\"text-align: right;\">\n",
       "      <th></th>\n",
       "      <th>Customer_ID</th>\n",
       "      <th>Age</th>\n",
       "      <th>Gender</th>\n",
       "      <th>City</th>\n",
       "      <th>Income_Level</th>\n",
       "      <th>Purchase_Mode</th>\n",
       "      <th>Brand_Purchased</th>\n",
       "      <th>Price_Range</th>\n",
       "      <th>Payment_Mode</th>\n",
       "      <th>Purchase_Frequency</th>\n",
       "      <th>Satisfaction_Rating</th>\n",
       "    </tr>\n",
       "  </thead>\n",
       "  <tbody>\n",
       "    <tr>\n",
       "      <th>783</th>\n",
       "      <td>CUST00784</td>\n",
       "      <td>47</td>\n",
       "      <td>Female</td>\n",
       "      <td>Bangalore</td>\n",
       "      <td>Medium</td>\n",
       "      <td>Online</td>\n",
       "      <td>MSI</td>\n",
       "      <td>30K-50K</td>\n",
       "      <td>EMI</td>\n",
       "      <td>Occasional</td>\n",
       "      <td>4</td>\n",
       "    </tr>\n",
       "    <tr>\n",
       "      <th>3189</th>\n",
       "      <td>CUST03190</td>\n",
       "      <td>51</td>\n",
       "      <td>Male</td>\n",
       "      <td>Ahmedabad</td>\n",
       "      <td>Medium</td>\n",
       "      <td>Online</td>\n",
       "      <td>Lenovo</td>\n",
       "      <td>Below 30K</td>\n",
       "      <td>Debit Card</td>\n",
       "      <td>Rare</td>\n",
       "      <td>5</td>\n",
       "    </tr>\n",
       "    <tr>\n",
       "      <th>2714</th>\n",
       "      <td>CUST02715</td>\n",
       "      <td>57</td>\n",
       "      <td>Female</td>\n",
       "      <td>Hyderabad</td>\n",
       "      <td>Low</td>\n",
       "      <td>Online</td>\n",
       "      <td>HP</td>\n",
       "      <td>50K-80K</td>\n",
       "      <td>EMI</td>\n",
       "      <td>Rare</td>\n",
       "      <td>5</td>\n",
       "    </tr>\n",
       "  </tbody>\n",
       "</table>\n",
       "</div>"
      ],
      "text/plain": [
       "     Customer_ID  Age  Gender       City Income_Level Purchase_Mode  \\\n",
       "783    CUST00784   47  Female  Bangalore       Medium        Online   \n",
       "3189   CUST03190   51    Male  Ahmedabad       Medium        Online   \n",
       "2714   CUST02715   57  Female  Hyderabad          Low        Online   \n",
       "\n",
       "     Brand_Purchased Price_Range Payment_Mode Purchase_Frequency  \\\n",
       "783              MSI     30K-50K          EMI         Occasional   \n",
       "3189          Lenovo   Below 30K   Debit Card               Rare   \n",
       "2714              HP     50K-80K          EMI               Rare   \n",
       "\n",
       "      Satisfaction_Rating  \n",
       "783                     4  \n",
       "3189                    5  \n",
       "2714                    5  "
      ]
     },
     "execution_count": 22,
     "metadata": {},
     "output_type": "execute_result"
    }
   ],
   "source": [
    "df.sample(3)"
   ]
  },
  {
   "cell_type": "code",
   "execution_count": 23,
   "metadata": {},
   "outputs": [
    {
     "data": {
      "text/html": [
       "<div>\n",
       "<style scoped>\n",
       "    .dataframe tbody tr th:only-of-type {\n",
       "        vertical-align: middle;\n",
       "    }\n",
       "\n",
       "    .dataframe tbody tr th {\n",
       "        vertical-align: top;\n",
       "    }\n",
       "\n",
       "    .dataframe thead th {\n",
       "        text-align: right;\n",
       "    }\n",
       "</style>\n",
       "<table border=\"1\" class=\"dataframe\">\n",
       "  <thead>\n",
       "    <tr style=\"text-align: right;\">\n",
       "      <th></th>\n",
       "      <th>Age</th>\n",
       "      <th>Satisfaction_Rating</th>\n",
       "    </tr>\n",
       "  </thead>\n",
       "  <tbody>\n",
       "    <tr>\n",
       "      <th>count</th>\n",
       "      <td>5000.000000</td>\n",
       "      <td>5000.000000</td>\n",
       "    </tr>\n",
       "    <tr>\n",
       "      <th>mean</th>\n",
       "      <td>38.662200</td>\n",
       "      <td>2.994200</td>\n",
       "    </tr>\n",
       "    <tr>\n",
       "      <th>std</th>\n",
       "      <td>12.028492</td>\n",
       "      <td>1.416957</td>\n",
       "    </tr>\n",
       "    <tr>\n",
       "      <th>min</th>\n",
       "      <td>18.000000</td>\n",
       "      <td>1.000000</td>\n",
       "    </tr>\n",
       "    <tr>\n",
       "      <th>25%</th>\n",
       "      <td>28.000000</td>\n",
       "      <td>2.000000</td>\n",
       "    </tr>\n",
       "    <tr>\n",
       "      <th>50%</th>\n",
       "      <td>39.000000</td>\n",
       "      <td>3.000000</td>\n",
       "    </tr>\n",
       "    <tr>\n",
       "      <th>75%</th>\n",
       "      <td>49.000000</td>\n",
       "      <td>4.000000</td>\n",
       "    </tr>\n",
       "    <tr>\n",
       "      <th>max</th>\n",
       "      <td>59.000000</td>\n",
       "      <td>5.000000</td>\n",
       "    </tr>\n",
       "  </tbody>\n",
       "</table>\n",
       "</div>"
      ],
      "text/plain": [
       "               Age  Satisfaction_Rating\n",
       "count  5000.000000          5000.000000\n",
       "mean     38.662200             2.994200\n",
       "std      12.028492             1.416957\n",
       "min      18.000000             1.000000\n",
       "25%      28.000000             2.000000\n",
       "50%      39.000000             3.000000\n",
       "75%      49.000000             4.000000\n",
       "max      59.000000             5.000000"
      ]
     },
     "execution_count": 23,
     "metadata": {},
     "output_type": "execute_result"
    }
   ],
   "source": [
    "df.describe()"
   ]
  },
  {
   "cell_type": "code",
   "execution_count": 24,
   "metadata": {},
   "outputs": [
    {
     "data": {
      "text/html": [
       "<div>\n",
       "<style scoped>\n",
       "    .dataframe tbody tr th:only-of-type {\n",
       "        vertical-align: middle;\n",
       "    }\n",
       "\n",
       "    .dataframe tbody tr th {\n",
       "        vertical-align: top;\n",
       "    }\n",
       "\n",
       "    .dataframe thead th {\n",
       "        text-align: right;\n",
       "    }\n",
       "</style>\n",
       "<table border=\"1\" class=\"dataframe\">\n",
       "  <thead>\n",
       "    <tr style=\"text-align: right;\">\n",
       "      <th></th>\n",
       "      <th>Customer_ID</th>\n",
       "      <th>Age</th>\n",
       "      <th>Gender</th>\n",
       "      <th>City</th>\n",
       "      <th>Income_Level</th>\n",
       "      <th>Purchase_Mode</th>\n",
       "      <th>Brand_Purchased</th>\n",
       "      <th>Price_Range</th>\n",
       "      <th>Payment_Mode</th>\n",
       "      <th>Purchase_Frequency</th>\n",
       "      <th>Satisfaction_Rating</th>\n",
       "    </tr>\n",
       "  </thead>\n",
       "  <tbody>\n",
       "    <tr>\n",
       "      <th>count</th>\n",
       "      <td>5000</td>\n",
       "      <td>5000.000000</td>\n",
       "      <td>5000</td>\n",
       "      <td>5000</td>\n",
       "      <td>5000</td>\n",
       "      <td>5000</td>\n",
       "      <td>5000</td>\n",
       "      <td>5000</td>\n",
       "      <td>5000</td>\n",
       "      <td>5000</td>\n",
       "      <td>5000.000000</td>\n",
       "    </tr>\n",
       "    <tr>\n",
       "      <th>unique</th>\n",
       "      <td>5000</td>\n",
       "      <td>NaN</td>\n",
       "      <td>2</td>\n",
       "      <td>9</td>\n",
       "      <td>3</td>\n",
       "      <td>2</td>\n",
       "      <td>8</td>\n",
       "      <td>5</td>\n",
       "      <td>5</td>\n",
       "      <td>3</td>\n",
       "      <td>NaN</td>\n",
       "    </tr>\n",
       "    <tr>\n",
       "      <th>top</th>\n",
       "      <td>CUST00001</td>\n",
       "      <td>NaN</td>\n",
       "      <td>Male</td>\n",
       "      <td>Chennai</td>\n",
       "      <td>Medium</td>\n",
       "      <td>Online</td>\n",
       "      <td>Lenovo</td>\n",
       "      <td>30K-50K</td>\n",
       "      <td>EMI</td>\n",
       "      <td>Rare</td>\n",
       "      <td>NaN</td>\n",
       "    </tr>\n",
       "    <tr>\n",
       "      <th>freq</th>\n",
       "      <td>1</td>\n",
       "      <td>NaN</td>\n",
       "      <td>2850</td>\n",
       "      <td>576</td>\n",
       "      <td>2540</td>\n",
       "      <td>3405</td>\n",
       "      <td>674</td>\n",
       "      <td>1768</td>\n",
       "      <td>1089</td>\n",
       "      <td>3012</td>\n",
       "      <td>NaN</td>\n",
       "    </tr>\n",
       "    <tr>\n",
       "      <th>mean</th>\n",
       "      <td>NaN</td>\n",
       "      <td>38.662200</td>\n",
       "      <td>NaN</td>\n",
       "      <td>NaN</td>\n",
       "      <td>NaN</td>\n",
       "      <td>NaN</td>\n",
       "      <td>NaN</td>\n",
       "      <td>NaN</td>\n",
       "      <td>NaN</td>\n",
       "      <td>NaN</td>\n",
       "      <td>2.994200</td>\n",
       "    </tr>\n",
       "    <tr>\n",
       "      <th>std</th>\n",
       "      <td>NaN</td>\n",
       "      <td>12.028492</td>\n",
       "      <td>NaN</td>\n",
       "      <td>NaN</td>\n",
       "      <td>NaN</td>\n",
       "      <td>NaN</td>\n",
       "      <td>NaN</td>\n",
       "      <td>NaN</td>\n",
       "      <td>NaN</td>\n",
       "      <td>NaN</td>\n",
       "      <td>1.416957</td>\n",
       "    </tr>\n",
       "    <tr>\n",
       "      <th>min</th>\n",
       "      <td>NaN</td>\n",
       "      <td>18.000000</td>\n",
       "      <td>NaN</td>\n",
       "      <td>NaN</td>\n",
       "      <td>NaN</td>\n",
       "      <td>NaN</td>\n",
       "      <td>NaN</td>\n",
       "      <td>NaN</td>\n",
       "      <td>NaN</td>\n",
       "      <td>NaN</td>\n",
       "      <td>1.000000</td>\n",
       "    </tr>\n",
       "    <tr>\n",
       "      <th>25%</th>\n",
       "      <td>NaN</td>\n",
       "      <td>28.000000</td>\n",
       "      <td>NaN</td>\n",
       "      <td>NaN</td>\n",
       "      <td>NaN</td>\n",
       "      <td>NaN</td>\n",
       "      <td>NaN</td>\n",
       "      <td>NaN</td>\n",
       "      <td>NaN</td>\n",
       "      <td>NaN</td>\n",
       "      <td>2.000000</td>\n",
       "    </tr>\n",
       "    <tr>\n",
       "      <th>50%</th>\n",
       "      <td>NaN</td>\n",
       "      <td>39.000000</td>\n",
       "      <td>NaN</td>\n",
       "      <td>NaN</td>\n",
       "      <td>NaN</td>\n",
       "      <td>NaN</td>\n",
       "      <td>NaN</td>\n",
       "      <td>NaN</td>\n",
       "      <td>NaN</td>\n",
       "      <td>NaN</td>\n",
       "      <td>3.000000</td>\n",
       "    </tr>\n",
       "    <tr>\n",
       "      <th>75%</th>\n",
       "      <td>NaN</td>\n",
       "      <td>49.000000</td>\n",
       "      <td>NaN</td>\n",
       "      <td>NaN</td>\n",
       "      <td>NaN</td>\n",
       "      <td>NaN</td>\n",
       "      <td>NaN</td>\n",
       "      <td>NaN</td>\n",
       "      <td>NaN</td>\n",
       "      <td>NaN</td>\n",
       "      <td>4.000000</td>\n",
       "    </tr>\n",
       "    <tr>\n",
       "      <th>max</th>\n",
       "      <td>NaN</td>\n",
       "      <td>59.000000</td>\n",
       "      <td>NaN</td>\n",
       "      <td>NaN</td>\n",
       "      <td>NaN</td>\n",
       "      <td>NaN</td>\n",
       "      <td>NaN</td>\n",
       "      <td>NaN</td>\n",
       "      <td>NaN</td>\n",
       "      <td>NaN</td>\n",
       "      <td>5.000000</td>\n",
       "    </tr>\n",
       "  </tbody>\n",
       "</table>\n",
       "</div>"
      ],
      "text/plain": [
       "       Customer_ID          Age Gender     City Income_Level Purchase_Mode  \\\n",
       "count         5000  5000.000000   5000     5000         5000          5000   \n",
       "unique        5000          NaN      2        9            3             2   \n",
       "top      CUST00001          NaN   Male  Chennai       Medium        Online   \n",
       "freq             1          NaN   2850      576         2540          3405   \n",
       "mean           NaN    38.662200    NaN      NaN          NaN           NaN   \n",
       "std            NaN    12.028492    NaN      NaN          NaN           NaN   \n",
       "min            NaN    18.000000    NaN      NaN          NaN           NaN   \n",
       "25%            NaN    28.000000    NaN      NaN          NaN           NaN   \n",
       "50%            NaN    39.000000    NaN      NaN          NaN           NaN   \n",
       "75%            NaN    49.000000    NaN      NaN          NaN           NaN   \n",
       "max            NaN    59.000000    NaN      NaN          NaN           NaN   \n",
       "\n",
       "       Brand_Purchased Price_Range Payment_Mode Purchase_Frequency  \\\n",
       "count             5000        5000         5000               5000   \n",
       "unique               8           5            5                  3   \n",
       "top             Lenovo     30K-50K          EMI               Rare   \n",
       "freq               674        1768         1089               3012   \n",
       "mean               NaN         NaN          NaN                NaN   \n",
       "std                NaN         NaN          NaN                NaN   \n",
       "min                NaN         NaN          NaN                NaN   \n",
       "25%                NaN         NaN          NaN                NaN   \n",
       "50%                NaN         NaN          NaN                NaN   \n",
       "75%                NaN         NaN          NaN                NaN   \n",
       "max                NaN         NaN          NaN                NaN   \n",
       "\n",
       "        Satisfaction_Rating  \n",
       "count           5000.000000  \n",
       "unique                  NaN  \n",
       "top                     NaN  \n",
       "freq                    NaN  \n",
       "mean               2.994200  \n",
       "std                1.416957  \n",
       "min                1.000000  \n",
       "25%                2.000000  \n",
       "50%                3.000000  \n",
       "75%                4.000000  \n",
       "max                5.000000  "
      ]
     },
     "execution_count": 24,
     "metadata": {},
     "output_type": "execute_result"
    }
   ],
   "source": [
    "df.describe(include=\"all\")  # include all columns"
   ]
  },
  {
   "cell_type": "code",
   "execution_count": 25,
   "metadata": {},
   "outputs": [
    {
     "name": "stdout",
     "output_type": "stream",
     "text": [
      "<class 'pandas.core.frame.DataFrame'>\n",
      "RangeIndex: 5000 entries, 0 to 4999\n",
      "Data columns (total 11 columns):\n",
      " #   Column               Non-Null Count  Dtype \n",
      "---  ------               --------------  ----- \n",
      " 0   Customer_ID          5000 non-null   object\n",
      " 1   Age                  5000 non-null   int64 \n",
      " 2   Gender               5000 non-null   object\n",
      " 3   City                 5000 non-null   object\n",
      " 4   Income_Level         5000 non-null   object\n",
      " 5   Purchase_Mode        5000 non-null   object\n",
      " 6   Brand_Purchased      5000 non-null   object\n",
      " 7   Price_Range          5000 non-null   object\n",
      " 8   Payment_Mode         5000 non-null   object\n",
      " 9   Purchase_Frequency   5000 non-null   object\n",
      " 10  Satisfaction_Rating  5000 non-null   int64 \n",
      "dtypes: int64(2), object(9)\n",
      "memory usage: 429.8+ KB\n"
     ]
    }
   ],
   "source": [
    "df.info()"
   ]
  },
  {
   "cell_type": "markdown",
   "metadata": {},
   "source": [
    "# Loc vs iLoc"
   ]
  },
  {
   "cell_type": "code",
   "execution_count": 26,
   "metadata": {},
   "outputs": [
    {
     "data": {
      "text/plain": [
       "25"
      ]
     },
     "execution_count": 26,
     "metadata": {},
     "output_type": "execute_result"
    }
   ],
   "source": [
    "df.loc[3, 'Age']  # get the value of the Age column in the 3rd row"
   ]
  },
  {
   "cell_type": "code",
   "execution_count": 27,
   "metadata": {},
   "outputs": [
    {
     "data": {
      "text/plain": [
       "'Female'"
      ]
     },
     "execution_count": 27,
     "metadata": {},
     "output_type": "execute_result"
    }
   ],
   "source": [
    "df.iloc[3, 2]  # get the value of the 2nd column in the 3rd row"
   ]
  },
  {
   "cell_type": "markdown",
   "metadata": {},
   "source": [
    "# Calculting mean, median and mode of a dataset"
   ]
  },
  {
   "cell_type": "code",
   "execution_count": 28,
   "metadata": {},
   "outputs": [
    {
     "data": {
      "text/plain": [
       "38.6622"
      ]
     },
     "execution_count": 28,
     "metadata": {},
     "output_type": "execute_result"
    }
   ],
   "source": [
    "df['Age'].mean()"
   ]
  },
  {
   "cell_type": "code",
   "execution_count": 29,
   "metadata": {},
   "outputs": [
    {
     "data": {
      "text/plain": [
       "39.0"
      ]
     },
     "execution_count": 29,
     "metadata": {},
     "output_type": "execute_result"
    }
   ],
   "source": [
    "df['Age'].median()"
   ]
  },
  {
   "cell_type": "code",
   "execution_count": 30,
   "metadata": {},
   "outputs": [
    {
     "data": {
      "text/plain": [
       "0    34\n",
       "Name: Age, dtype: int64"
      ]
     },
     "execution_count": 30,
     "metadata": {},
     "output_type": "execute_result"
    }
   ],
   "source": [
    "df['Age'].mode()"
   ]
  },
  {
   "cell_type": "code",
   "execution_count": 47,
   "metadata": {},
   "outputs": [
    {
     "data": {
      "text/plain": [
       "'Pune'"
      ]
     },
     "execution_count": 47,
     "metadata": {},
     "output_type": "execute_result"
    }
   ],
   "source": [
    "df[\"City\"].max()"
   ]
  },
  {
   "cell_type": "markdown",
   "metadata": {},
   "source": [
    "# Data Cleaning"
   ]
  },
  {
   "cell_type": "code",
   "execution_count": 36,
   "metadata": {},
   "outputs": [
    {
     "data": {
      "text/plain": [
       "Customer_ID            0\n",
       "Age                    0\n",
       "Gender                 0\n",
       "City                   0\n",
       "Income_Level           0\n",
       "Purchase_Mode          0\n",
       "Brand_Purchased        0\n",
       "Price_Range            0\n",
       "Payment_Mode           0\n",
       "Purchase_Frequency     0\n",
       "Satisfaction_Rating    0\n",
       "dtype: int64"
      ]
     },
     "execution_count": 36,
     "metadata": {},
     "output_type": "execute_result"
    }
   ],
   "source": [
    "df.isnull().sum() # checking null values"
   ]
  },
  {
   "cell_type": "code",
   "execution_count": 32,
   "metadata": {},
   "outputs": [
    {
     "data": {
      "text/plain": [
       "Customer_ID            0\n",
       "Age                    0\n",
       "Gender                 0\n",
       "City                   0\n",
       "Income_Level           0\n",
       "Purchase_Mode          0\n",
       "Brand_Purchased        0\n",
       "Price_Range            0\n",
       "Payment_Mode           0\n",
       "Purchase_Frequency     0\n",
       "Satisfaction_Rating    0\n",
       "dtype: int64"
      ]
     },
     "execution_count": 32,
     "metadata": {},
     "output_type": "execute_result"
    }
   ],
   "source": [
    "df.isnull().sum() # checking null values and count it"
   ]
  },
  {
   "cell_type": "code",
   "execution_count": 33,
   "metadata": {},
   "outputs": [
    {
     "data": {
      "text/plain": [
       "Customer_ID            False\n",
       "Age                    False\n",
       "Gender                 False\n",
       "City                   False\n",
       "Income_Level           False\n",
       "Purchase_Mode          False\n",
       "Brand_Purchased        False\n",
       "Price_Range            False\n",
       "Payment_Mode           False\n",
       "Purchase_Frequency     False\n",
       "Satisfaction_Rating    False\n",
       "dtype: bool"
      ]
     },
     "execution_count": 33,
     "metadata": {},
     "output_type": "execute_result"
    }
   ],
   "source": [
    "df.isnull().any() # it checks if there is any missing value in the dataframe"
   ]
  },
  {
   "cell_type": "markdown",
   "metadata": {},
   "source": [
    "# Graph"
   ]
  },
  {
   "cell_type": "code",
   "execution_count": 37,
   "metadata": {},
   "outputs": [
    {
     "data": {
      "text/plain": [
       "<Axes: xlabel='Brand_Purchased'>"
      ]
     },
     "execution_count": 37,
     "metadata": {},
     "output_type": "execute_result"
    },
    {
     "data": {
      "image/png": "[encoded data removed]",
      "text/plain": [
       "<Figure size 640x480 with 1 Axes>"
      ]
     },
     "metadata": {},
     "output_type": "display_data"
    }
   ],
   "source": [
    "df[\"Brand_Purchased\"].value_counts().plot(kind='bar')"
   ]
  },
  {
   "cell_type": "code",
   "execution_count": 41,
   "metadata": {},
   "outputs": [
    {
     "data": {
      "text/plain": [
       "<Axes: ylabel='count'>"
      ]
     },
     "execution_count": 41,
     "metadata": {},
     "output_type": "execute_result"
    },
    {
     "data": {
      "image/png": "[encoded data removed]",
      "text/plain": [
       "<Figure size 640x480 with 1 Axes>"
      ]
     },
     "metadata": {},
     "output_type": "display_data"
    }
   ],
   "source": [
    "df[\"Gender\"].value_counts().plot(kind='pie')"
   ]
  },
  {
   "cell_type": "code",
   "execution_count": 42,
   "metadata": {},
   "outputs": [
    {
     "data": {
      "text/plain": [
       "<Axes: ylabel='Payment_Mode'>"
      ]
     },
     "execution_count": 42,
     "metadata": {},
     "output_type": "execute_result"
    },
    {
     "data": {
      "image/png": "[encoded data removed]",
      "text/plain": [
       "<Figure size 640x480 with 1 Axes>"
      ]
     },
     "metadata": {},
     "output_type": "display_data"
    }
   ],
   "source": [
    "df['Payment_Mode'].value_counts().plot(kind='barh')"
   ]
  },
  {
   "cell_type": "code",
   "execution_count": 49,
   "metadata": {},
   "outputs": [
    {
     "data": {
      "text/plain": [
       "<Axes: ylabel='count'>"
      ]
     },
     "execution_count": 49,
     "metadata": {},
     "output_type": "execute_result"
    },
    {
     "data": {
      "image/png": "[encoded data removed]",
      "text/plain": [
       "<Figure size 640x480 with 1 Axes>"
      ]
     },
     "metadata": {},
     "output_type": "display_data"
    }
   ],
   "source": [
    "df['Purchase_Mode'].value_counts().plot(kind='pie')"
   ]
  },
  {
   "cell_type": "code",
   "execution_count": 50,
   "metadata": {},
   "outputs": [
    {
     "data": {
      "text/plain": [
       "<Axes: xlabel='Satisfaction_Rating'>"
      ]
     },
     "execution_count": 50,
     "metadata": {},
     "output_type": "execute_result"
    },
    {
     "data": {
      "image/png": "[encoded data removed]",
      "text/plain": [
       "<Figure size 640x480 with 1 Axes>"
      ]
     },
     "metadata": {},
     "output_type": "display_data"
    }
   ],
   "source": [
    "df['Satisfaction_Rating'].value_counts().plot(kind='bar')"
   ]
  },
  {
   "cell_type": "code",
   "execution_count": null,
   "metadata": {},
   "outputs": [],
   "source": []
  }
 ],
 "metadata": {
  "kernelspec": {
   "display_name": "base",
   "language": "python",
   "name": "python3"
  },
  "language_info": {
   "codemirror_mode": {
    "name": "ipython",
    "version": 3
   },
   "file_extension": ".py",
   "mimetype": "text/x-python",
   "name": "python",
   "nbconvert_exporter": "python",
   "pygments_lexer": "ipython3",
   "version": "3.12.4"
  }
 },
 "nbformat": 4,
 "nbformat_minor": 2
}
